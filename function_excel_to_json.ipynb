{
 "cells": [
  {
   "cell_type": "code",
   "execution_count": 17,
   "id": "46930dfd",
   "metadata": {},
   "outputs": [],
   "source": [
    "import pandas as pd\n",
    "import json"
   ]
  },
  {
   "cell_type": "code",
   "execution_count": 18,
   "id": "1653aedc",
   "metadata": {},
   "outputs": [],
   "source": [
    "def conv_to_json(df, col_name):\n",
    "    key = df[col_name].unique()\n",
    "    key = str(key)\n",
    "    key = key.replace('[', '')\n",
    "    key = key.replace(']', '')\n",
    "    key = key.replace(\"'\",'')\n",
    "    df2 = df.drop(col_name, axis=1)\n",
    "    df_json2 = df2.to_json(orient='records')\n",
    "    df_json2 = df_json2.replace('\"[', '[')\n",
    "    df_json2 = df_json2.replace(']\"', ']')\n",
    "    df_json2 = df_json2.replace('\\\\', '')\n",
    "    df_json2 = df_json2.replace(\"'\",'\"')\n",
    "    json_dict = {key:df_json2}\n",
    "    return json_dict\n"
   ]
  },
  {
   "cell_type": "code",
   "execution_count": 19,
   "id": "17656e13",
   "metadata": {},
   "outputs": [],
   "source": [
    "df = pd.read_excel(r\"/home/kajol/Downloads/Input-task1.xlsx\")\n",
    "json_dict = conv_to_json(df, 'option_id')\n",
    "with open(\"/home/kajol/Desktop/taskfinal.json\", \"w\") as outfile:\n",
    "    outfile.write(str(json_dict))\n",
    "\n"
   ]
  },
  {
   "cell_type": "code",
   "execution_count": 22,
   "id": "d3fd288c",
   "metadata": {},
   "outputs": [],
   "source": [
    "#generic function for all the sheets\n",
    "def conv_to_json(df, col_name):\n",
    "    #key = df[col_name].unique()\n",
    "    json_dict = {}\n",
    "    for key in df[col_name].unique():\n",
    "        df2 = df.loc[df[col_name]==key]\n",
    "        df2 = df2.drop(col_name, axis=1)\n",
    "        df_json2 = df2.to_json(orient='records')\n",
    "        df_json2 = df_json2.replace('\"[', '[')\n",
    "        df_json2 = df_json2.replace(']\"', ']')\n",
    "        df_json2 = df_json2.replace('\\\\', '')\n",
    "        df_json2 = df_json2.replace(\"'\",'\"')\n",
    "        json_dict[key] = df_json2\n",
    "    #key = str(key)\n",
    "    #key = key.replace('[', '')\n",
    "    #key = key.replace(']', '')\n",
    "    #key = key.replace(\"'\",'')\n",
    "    #df2 = df.drop(col_name, axis=1)\n",
    "    #df_json2 = df2.to_json(orient='records')\n",
    "    #df_json2 = df_json2.replace('\"[', '[')\n",
    "    #df_json2 = df_json2.replace(']\"', ']')\n",
    "    #df_json2 = df_json2.replace('\\\\', '')\n",
    "    #df_json2 = df_json2.replace(\"'\",'\"')\n",
    "    #json_dict = {key:df_json2}\n",
    "    return json_dict\n"
   ]
  },
  {
   "cell_type": "code",
   "execution_count": 23,
   "id": "565aa7fb",
   "metadata": {},
   "outputs": [],
   "source": [
    "df = pd.read_excel(r\"/home/kajol/Downloads/Input.xlsx\",sheet_name='questions')\n",
    "json_dict2 = conv_to_json(df, 'section_id')\n",
    "with open(\"/home/kajol/Desktop/taskfn1.json\", \"w\") as outfile:\n",
    "    outfile.write(str(json_dict2))\n"
   ]
  },
  {
   "cell_type": "code",
   "execution_count": 24,
   "id": "a6e8ea48",
   "metadata": {},
   "outputs": [],
   "source": [
    "df = pd.read_excel(r\"/home/kajol/Downloads/Input-task1.xlsx\")\n",
    "json_dict = conv_to_json(df, 'option_id')\n",
    "with open(\"/home/kajol/Desktop/taskfinal.json\", \"w\") as outfile:\n",
    "    outfile.write(str(json_dict))"
   ]
  }
 ],
 "metadata": {
  "kernelspec": {
   "display_name": "Python 3 (ipykernel)",
   "language": "python",
   "name": "python3"
  },
  "language_info": {
   "codemirror_mode": {
    "name": "ipython",
    "version": 3
   },
   "file_extension": ".py",
   "mimetype": "text/x-python",
   "name": "python",
   "nbconvert_exporter": "python",
   "pygments_lexer": "ipython3",
   "version": "3.9.7"
  }
 },
 "nbformat": 4,
 "nbformat_minor": 5
}
