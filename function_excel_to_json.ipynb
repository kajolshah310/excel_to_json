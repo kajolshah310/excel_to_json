{
 "cells": [
  {
   "cell_type": "code",
   "execution_count": 1,
   "id": "4623d9a4",
   "metadata": {},
   "outputs": [],
   "source": [
    "import pandas as pd\n",
    "import json"
   ]
  },
  {
   "cell_type": "code",
   "execution_count": 4,
   "id": "7e3bea71",
   "metadata": {},
   "outputs": [],
   "source": [
    "def conv_to_json(df, col_name):\n",
    "    key = df[col_name].unique()\n",
    "    key = str(key)\n",
    "    key = key.replace('[', '')\n",
    "    key = key.replace(']', '')\n",
    "    key = key.replace(\"'\",'')\n",
    "    df2 = df.drop(col_name, axis=1)\n",
    "    df_json2 = df2.to_json(orient='records')\n",
    "    df_json2 = df_json2.replace('\"[', '[')\n",
    "    df_json2 = df_json2.replace(']\"', ']')\n",
    "    df_json2 = df_json2.replace('\\\\', '')\n",
    "    df_json2 = df_json2.replace(\"'\",'\"')\n",
    "    json_dict = {key:df_json2}\n",
    "    return json_dict\n"
   ]
  },
  {
   "cell_type": "code",
   "execution_count": 5,
   "id": "4df80559",
   "metadata": {},
   "outputs": [],
   "source": [
    "df = pd.read_excel(r\"/home/kajol/Downloads/Input-task1.xlsx\")\n",
    "json_dict = conv_to_json(df, 'option_id')\n",
    "with open(\"/home/kajol/Desktop/taskfinal.json\", \"w\") as outfile:\n",
    "    outfile.write(str(json_dict))\n",
    "\n"
   ]
  }
 ],
 "metadata": {
  "kernelspec": {
   "display_name": "Python 3 (ipykernel)",
   "language": "python",
   "name": "python3"
  },
  "language_info": {
   "codemirror_mode": {
    "name": "ipython",
    "version": 3
   },
   "file_extension": ".py",
   "mimetype": "text/x-python",
   "name": "python",
   "nbconvert_exporter": "python",
   "pygments_lexer": "ipython3",
   "version": "3.9.7"
  }
 },
 "nbformat": 4,
 "nbformat_minor": 5
}
