{
 "cells": [
  {
   "cell_type": "code",
   "execution_count": 1,
   "id": "86f83adf",
   "metadata": {},
   "outputs": [],
   "source": [
    "import pandas as pd"
   ]
  },
  {
   "cell_type": "code",
   "execution_count": 3,
   "id": "0c75287e",
   "metadata": {},
   "outputs": [
    {
     "data": {
      "text/html": [
       "<div>\n",
       "<style scoped>\n",
       "    .dataframe tbody tr th:only-of-type {\n",
       "        vertical-align: middle;\n",
       "    }\n",
       "\n",
       "    .dataframe tbody tr th {\n",
       "        vertical-align: top;\n",
       "    }\n",
       "\n",
       "    .dataframe thead th {\n",
       "        text-align: right;\n",
       "    }\n",
       "</style>\n",
       "<table border=\"1\" class=\"dataframe\">\n",
       "  <thead>\n",
       "    <tr style=\"text-align: right;\">\n",
       "      <th></th>\n",
       "      <th>title</th>\n",
       "      <th>placeholder</th>\n",
       "      <th>type</th>\n",
       "      <th>displayType</th>\n",
       "      <th>isMandatory</th>\n",
       "      <th>validations</th>\n",
       "      <th>allowedValues</th>\n",
       "      <th>defaultValue</th>\n",
       "      <th>rank</th>\n",
       "      <th>answer</th>\n",
       "      <th>option_id</th>\n",
       "    </tr>\n",
       "  </thead>\n",
       "  <tbody>\n",
       "    <tr>\n",
       "      <th>0</th>\n",
       "      <td>comment</td>\n",
       "      <td>Enter your comment here</td>\n",
       "      <td>TEXT</td>\n",
       "      <td>TEXT</td>\n",
       "      <td>True</td>\n",
       "      <td>[]</td>\n",
       "      <td>[]</td>\n",
       "      <td>NaN</td>\n",
       "      <td>1</td>\n",
       "      <td>NaN</td>\n",
       "      <td>option_1</td>\n",
       "    </tr>\n",
       "    <tr>\n",
       "      <th>1</th>\n",
       "      <td>options</td>\n",
       "      <td>NaN</td>\n",
       "      <td>TEXT</td>\n",
       "      <td>YES_NO_BUTTONS</td>\n",
       "      <td>False</td>\n",
       "      <td>[]</td>\n",
       "      <td>['Yes', 'No', 'N/A']</td>\n",
       "      <td>NaN</td>\n",
       "      <td>2</td>\n",
       "      <td>NaN</td>\n",
       "      <td>option_1</td>\n",
       "    </tr>\n",
       "  </tbody>\n",
       "</table>\n",
       "</div>"
      ],
      "text/plain": [
       "     title              placeholder  type     displayType  isMandatory  \\\n",
       "0  comment  Enter your comment here  TEXT            TEXT         True   \n",
       "1  options                      NaN  TEXT  YES_NO_BUTTONS        False   \n",
       "\n",
       "  validations         allowedValues  defaultValue  rank  answer option_id  \n",
       "0          []                    []           NaN     1     NaN  option_1  \n",
       "1          []  ['Yes', 'No', 'N/A']           NaN     2     NaN  option_1  "
      ]
     },
     "execution_count": 3,
     "metadata": {},
     "output_type": "execute_result"
    }
   ],
   "source": [
    "df = pd.read_excel(r\"/home/kajol/Downloads/Input-task1.xlsx\")\n",
    "df"
   ]
  },
  {
   "cell_type": "code",
   "execution_count": 7,
   "id": "9d3e1336",
   "metadata": {},
   "outputs": [
    {
     "data": {
      "text/plain": [
       "'[{\"title\":\"comment\",\"placeholder\":\"Enter your comment here\",\"type\":\"TEXT\",\"displayType\":\"TEXT\",\"isMandatory\":true,\"validations\":\"[]\",\"allowedValues\":\"[]\",\"defaultValue\":null,\"rank\":1,\"answer\":null,\"option_id\":\"option_1\"},{\"title\":\"options\",\"placeholder\":null,\"type\":\"TEXT\",\"displayType\":\"YES_NO_BUTTONS\",\"isMandatory\":false,\"validations\":\"[]\",\"allowedValues\":\"[\\'Yes\\', \\'No\\', \\'N\\\\/A\\']\",\"defaultValue\":null,\"rank\":2,\"answer\":null,\"option_id\":\"option_1\"}]'"
      ]
     },
     "execution_count": 7,
     "metadata": {},
     "output_type": "execute_result"
    }
   ],
   "source": [
    "df_json = df.to_json(orient='records')\n",
    "df_json"
   ]
  },
  {
   "cell_type": "code",
   "execution_count": 9,
   "id": "2941946f",
   "metadata": {},
   "outputs": [],
   "source": [
    "with open(\"/home/kajol/Desktop/task1.json\", \"w\") as outfile:\n",
    "    outfile.write(df_json)\n"
   ]
  }
 ],
 "metadata": {
  "kernelspec": {
   "display_name": "Python 3 (ipykernel)",
   "language": "python",
   "name": "python3"
  },
  "language_info": {
   "codemirror_mode": {
    "name": "ipython",
    "version": 3
   },
   "file_extension": ".py",
   "mimetype": "text/x-python",
   "name": "python",
   "nbconvert_exporter": "python",
   "pygments_lexer": "ipython3",
   "version": "3.9.7"
  }
 },
 "nbformat": 4,
 "nbformat_minor": 5
}
